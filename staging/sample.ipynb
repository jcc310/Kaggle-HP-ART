{
 "cells": [
  {
   "cell_type": "code",
   "execution_count": 20,
   "metadata": {},
   "outputs": [],
   "source": [
    "import pandas as pd\n",
    "import numpy as np\n",
    "import matplotlib.pyplot as plt\n",
    "import scipy.stats as stats"
   ]
  },
  {
   "cell_type": "code",
   "execution_count": 21,
   "metadata": {},
   "outputs": [
    {
     "name": "stdout",
     "output_type": "stream",
     "text": [
      "['1stFlrSF', '2ndFlrSF', '3SsnPorch', 'Alley', 'BedroomAbvGr', 'BldgType', 'BsmtCond', 'BsmtExposure', 'BsmtFinSF1', 'BsmtFinSF2', 'BsmtFinType1', 'BsmtFinType2', 'BsmtFullBath', 'BsmtHalfBath', 'BsmtQual', 'BsmtUnfSF', 'CentralAir', 'Condition1', 'Condition2', 'Electrical', 'EnclosedPorch', 'ExterCond', 'ExterQual', 'Exterior1st', 'Exterior2nd', 'Fence', 'FireplaceQu', 'Fireplaces', 'Foundation', 'FullBath', 'Functional', 'GarageArea', 'GarageCars', 'GarageCond', 'GarageFinish', 'GarageQual', 'GarageType', 'GarageYrBlt', 'GrLivArea', 'HalfBath', 'Heating', 'HeatingQC', 'HouseStyle', 'Id', 'KitchenAbvGr', 'KitchenQual', 'LandContour', 'LandSlope', 'LotArea', 'LotConfig', 'LotFrontage', 'LotShape', 'LowQualFinSF', 'MSSubClass', 'MSZoning', 'MasVnrArea', 'MasVnrType', 'MiscFeature', 'MiscVal', 'MoSold', 'Neighborhood', 'OpenPorchSF', 'OverallCond', 'OverallQual', 'PavedDrive', 'PoolArea', 'PoolQC', 'RoofMatl', 'RoofStyle', 'SaleCondition', 'SalePrice', 'SaleType', 'ScreenPorch', 'Street', 'TotRmsAbvGrd', 'TotalBsmtSF', 'Utilities', 'WoodDeckSF', 'YearBuilt', 'YearRemodAdd', 'YrSold']\n"
     ]
    }
   ],
   "source": [
    "file = '../Seeds/train.csv'\n",
    "df = pd.read_csv(file)\n",
    "print(sorted(df.columns))"
   ]
  },
  {
   "cell_type": "markdown",
   "metadata": {},
   "source": [
    "Summary for numerical Features"
   ]
  },
  {
   "cell_type": "code",
   "execution_count": 22,
   "metadata": {},
   "outputs": [
    {
     "name": "stdout",
     "output_type": "stream",
     "text": [
      "              count          mean          std     min      25%     50%  \\\n",
      "Id           1460.0    730.500000   421.610009     1.0   365.75   730.5   \n",
      "MSSubClass   1460.0     56.897260    42.300571    20.0    20.00    50.0   \n",
      "LotFrontage  1201.0     70.049958    24.284752    21.0    59.00    69.0   \n",
      "LotArea      1460.0  10516.828082  9981.264932  1300.0  7553.50  9478.5   \n",
      "OverallQual  1460.0      6.099315     1.382997     1.0     5.00     6.0   \n",
      "\n",
      "                  75%       max  \n",
      "Id            1095.25    1460.0  \n",
      "MSSubClass      70.00     190.0  \n",
      "LotFrontage     80.00     313.0  \n",
      "LotArea      11601.50  215245.0  \n",
      "OverallQual      7.00      10.0  \n"
     ]
    }
   ],
   "source": [
    "numerical_features = df.select_dtypes(include=[np.number])\n",
    "summary_stats = numerical_features.describe().T\n",
    "print(summary_stats.head(5))"
   ]
  },
  {
   "cell_type": "markdown",
   "metadata": {},
   "source": [
    "Summary for categorical features"
   ]
  },
  {
   "cell_type": "code",
   "execution_count": 23,
   "metadata": {},
   "outputs": [
    {
     "name": "stdout",
     "output_type": "stream",
     "text": [
      "            count unique   top  freq\n",
      "MSZoning     1460      5    RL  1151\n",
      "Street       1460      2  Pave  1454\n",
      "Alley          91      2  Grvl    50\n",
      "LotShape     1460      4   Reg   925\n",
      "LandContour  1460      4   Lvl  1311\n"
     ]
    }
   ],
   "source": [
    "categorical_features = df.select_dtypes(include=[object])\n",
    "cat_summary_stats = categorical_features.describe().T\n",
    "print(cat_summary_stats.head(5))"
   ]
  },
  {
   "cell_type": "markdown",
   "metadata": {},
   "source": [
    "Null Values in dataset"
   ]
  },
  {
   "cell_type": "code",
   "execution_count": 24,
   "metadata": {},
   "outputs": [
    {
     "name": "stdout",
     "output_type": "stream",
     "text": [
      "PoolQC          99.520548\n",
      "MiscFeature     96.301370\n",
      "Alley           93.767123\n",
      "Fence           80.753425\n",
      "FireplaceQu     47.260274\n",
      "LotFrontage     17.739726\n",
      "GarageYrBlt      5.547945\n",
      "GarageCond       5.547945\n",
      "GarageType       5.547945\n",
      "GarageFinish     5.547945\n",
      "dtype: float64\n"
     ]
    }
   ],
   "source": [
    "null_values = df.isnull().sum()\n",
    "missing_percentage = (null_values / len(df)) * 100\n",
    "\n",
    "print(missing_percentage.sort_values(ascending=False).head(10))"
   ]
  },
  {
   "cell_type": "markdown",
   "metadata": {},
   "source": [
    "Questions to review the data:\n",
    "\n",
    "1. Distribution of dwelling types and their relation to sales prices?\n",
    "2. Does zoning impact sale price?\n",
    "3. Does street and alley access types affect on sales price?\n",
    "4. What is the average sales price by property shape?\n",
    "5. Is there a Correlation between property age and sales price?\n",
    "6. Is there a Correlation between Living Area and Sale Price?\n",
    "7. Does price change year to year?"
   ]
  },
  {
   "cell_type": "code",
   "execution_count": 30,
   "metadata": {},
   "outputs": [
    {
     "data": {
      "image/png": "[encoded data removed]",
      "text/plain": [
       "<Figure size 640x480 with 1 Axes>"
      ]
     },
     "metadata": {},
     "output_type": "display_data"
    }
   ],
   "source": [
    "# Normal Distribution of SalePrice\n",
    "mu, sigma = stats.norm.fit(df['SalePrice'])\n",
    "\n",
    "plt.style.use('dark_background')\n",
    "hist_data = plt.hist(df['SalePrice'], bins=30, color='purple',edgecolor='gray')\n",
    "\n",
    "plt.show(hist_data)"
   ]
  }
 ],
 "metadata": {
  "kernelspec": {
   "display_name": "Python 3",
   "language": "python",
   "name": "python3"
  },
  "language_info": {
   "codemirror_mode": {
    "name": "ipython",
    "version": 3
   },
   "file_extension": ".py",
   "mimetype": "text/x-python",
   "name": "python",
   "nbconvert_exporter": "python",
   "pygments_lexer": "ipython3",
   "version": "3.9.6"
  }
 },
 "nbformat": 4,
 "nbformat_minor": 2
}
